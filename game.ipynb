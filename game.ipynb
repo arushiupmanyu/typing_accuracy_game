{
 "cells": [
  {
   "cell_type": "markdown",
   "id": "bb7e4ac0",
   "metadata": {},
   "source": [
    "# Importing"
   ]
  },
  {
   "cell_type": "code",
   "execution_count": 1,
   "id": "983832ed",
   "metadata": {},
   "outputs": [],
   "source": [
    "from terms import terms\n",
    "from tkinter import*\n",
    "import random\n",
    "from tkinter import messagebox\n",
    "from PIL import Image,ImageTk\n",
    "from tkinter import ttk"
   ]
  },
  {
   "cell_type": "markdown",
   "id": "bc822d1e",
   "metadata": {},
   "source": [
    "# Main window"
   ]
  },
  {
   "cell_type": "code",
   "execution_count": 2,
   "id": "7f6d7617",
   "metadata": {},
   "outputs": [],
   "source": [
    "Mainwindow = Tk()\n",
    "Mainwindow.geometry('2000x2000')\n",
    "Mainwindow.title('Typing Accuracy Game')\n",
    "#Mainwindow.config(bg='black')\n",
    "bg = ImageTk.PhotoImage(file='bg.png')\n",
    "canvas=Canvas(Mainwindow,width =400,height=200)\n",
    "canvas.pack(expand=True,fill=BOTH)\n",
    "canvas.create_image(0,0,image=bg,anchor='nw')\n",
    "Font_tuple=('Public Sans Thin',40)"
   ]
  },
  {
   "cell_type": "markdown",
   "id": "544ade8b",
   "metadata": {},
   "source": [
    "# Variables"
   ]
  },
  {
   "cell_type": "code",
   "execution_count": 3,
   "id": "a59d8094",
   "metadata": {},
   "outputs": [],
   "source": [
    "score = 0\n",
    "miss = 0\n",
    "result=0\n",
    "time = 60\n",
    "count = 0\n",
    "movingword = ''"
   ]
  },
  {
   "cell_type": "markdown",
   "id": "a268867d",
   "metadata": {},
   "source": [
    "# Functions"
   ]
  },
  {
   "cell_type": "markdown",
   "id": "9ef8d29b",
   "metadata": {},
   "source": [
    "1. For moving text"
   ]
  },
  {
   "cell_type": "code",
   "execution_count": 4,
   "id": "3dd089a0",
   "metadata": {},
   "outputs": [],
   "source": [
    "def movingtext():\n",
    "    global count, movingword\n",
    "    floatingtext = 'TYPING ACCURACY GAME'\n",
    "    if count>=len(floatingtext):\n",
    "        count = 0\n",
    "        movingword = ''\n",
    "    movingword+=floatingtext[count]\n",
    "    count+=1\n",
    "    font.configure(text = movingword)\n",
    "    font.after(200, movingtext)"
   ]
  },
  {
   "cell_type": "markdown",
   "id": "03cb8ad8",
   "metadata": {},
   "source": [
    "2. For time"
   ]
  },
  {
   "cell_type": "code",
   "execution_count": 5,
   "id": "6974776c",
   "metadata": {},
   "outputs": [],
   "source": [
    "def giventime():\n",
    "    global time, score, miss, result\n",
    "    result=score-miss\n",
    "    if time>11:\n",
    "        pass\n",
    "    else:\n",
    "        timercount.configure(fg = 'red')\n",
    "    if time>0:\n",
    "        time-=1\n",
    "        timercount.configure(text = time)\n",
    "        timercount.after(1000, giventime)\n",
    "    else:\n",
    "        result=score-miss\n",
    "        gameinstruction.configure(text='HITS: {} | MISSES: {} | TOTAL SCORE: {}'.format(score, miss, result))\n",
    "        r = messagebox.askretrycancel('Notification','Do you want to play again?')\n",
    "        print(result)\n",
    "        if r==True:\n",
    "            time=60\n",
    "            score=0\n",
    "            miss=0\n",
    "            gameinstruction.configure(text = '')\n",
    "            start.configure(text= '')\n",
    "            labelforward.configure(text = terms[0])\n",
    "            scorecount.configure(text=score)\n",
    "            termentry.delete(0, END)    \n",
    "        else:\n",
    "            Mainwindow.destroy()\n",
    "            \n",
    "            \n",
    "        "
   ]
  },
  {
   "cell_type": "markdown",
   "id": "296f74d7",
   "metadata": {},
   "source": [
    "3. For game"
   ]
  },
  {
   "cell_type": "code",
   "execution_count": 6,
   "id": "ee21a7e5",
   "metadata": {},
   "outputs": [],
   "source": [
    "def game(event):\n",
    "    global score, miss\n",
    "    if time==60:\n",
    "        giventime()\n",
    "    #gameinstruction.configure(text = '')\n",
    "    #start.configure(text= '')\n",
    "    if termentry.get()==labelforward['text']:\n",
    "        score+=1\n",
    "        scorecount.configure(text = score)\n",
    "    else:\n",
    "        miss+=1\n",
    "        print(termentry.get())\n",
    "    #print(score)\n",
    "    random.shuffle(terms)\n",
    "    labelforward.configure(text = terms[0])\n",
    "    termentry.delete(0, END)\n",
    "    "
   ]
  },
  {
   "cell_type": "markdown",
   "id": "3c6f10eb",
   "metadata": {},
   "source": [
    "# Labels"
   ]
  },
  {
   "cell_type": "markdown",
   "id": "c0f9feea",
   "metadata": {},
   "source": [
    "1. Font label"
   ]
  },
  {
   "cell_type": "code",
   "execution_count": 7,
   "id": "cf7e1414",
   "metadata": {},
   "outputs": [],
   "source": [
    "font = Label(Mainwindow, text = '', font=(Font_tuple), bg = 'black', fg = 'yellow', width = 47)\n",
    "font.place(x = 32, y = 10)\n",
    "movingtext()"
   ]
  },
  {
   "cell_type": "markdown",
   "id": "305638c8",
   "metadata": {},
   "source": [
    "2. Start label"
   ]
  },
  {
   "cell_type": "code",
   "execution_count": 8,
   "id": "38beed0f",
   "metadata": {},
   "outputs": [],
   "source": [
    "start = Label(Mainwindow, text = 'Start Typing!', font=(Font_tuple),bg = 'black', fg = 'white')\n",
    "start.place(x = 650, y = 100)"
   ]
  },
  {
   "cell_type": "markdown",
   "id": "3a630c7e",
   "metadata": {},
   "source": [
    "3. Labelforward label"
   ]
  },
  {
   "cell_type": "code",
   "execution_count": 9,
   "id": "e29a7968",
   "metadata": {},
   "outputs": [],
   "source": [
    "random.shuffle(terms)\n",
    "labelforward = Label(Mainwindow, text = terms[0], font=('Public San Thin', 45),bg = 'black', fg = 'yellow',justify = 'center')\n",
    "labelforward.place(x = 630, y = 300)"
   ]
  },
  {
   "cell_type": "markdown",
   "id": "bc3fbc2b",
   "metadata": {},
   "source": [
    "4. Score label"
   ]
  },
  {
   "cell_type": "code",
   "execution_count": 10,
   "id": "9f8ca45a",
   "metadata": {},
   "outputs": [],
   "source": [
    "score1 = Label(Mainwindow, text = 'Your Score: ', font=('Helvetica',40),bg = 'black', fg = 'white')\n",
    "score1.place(x = 100, y = 100)\n",
    "\n",
    "scorecount = Label(Mainwindow, text = score, font=('Helvetica',40),bg = 'dark blue', fg = 'yellow')\n",
    "scorecount.place(x = 230, y = 180)"
   ]
  },
  {
   "cell_type": "markdown",
   "id": "9470f869",
   "metadata": {},
   "source": [
    "5. Timer label"
   ]
  },
  {
   "cell_type": "code",
   "execution_count": 11,
   "id": "29b7a755",
   "metadata": {},
   "outputs": [],
   "source": [
    "timer = Label(Mainwindow, text = 'Time Left: ', font=('Helvetica', 40),bg = 'black', fg = 'white', )\n",
    "timer.place(x = 1175, y = 100)\n",
    "\n",
    "timercount = Label(Mainwindow, text = time, font=('Helvetica', 40), bg = 'dark blue', fg = 'red')\n",
    "timercount.place(x = 1230, y = 180)"
   ]
  },
  {
   "cell_type": "markdown",
   "id": "900d0941",
   "metadata": {},
   "source": [
    "6. Game instructions label"
   ]
  },
  {
   "cell_type": "code",
   "execution_count": 12,
   "id": "f2eede6a",
   "metadata": {},
   "outputs": [],
   "source": [
    "gameinstruction = Label(Mainwindow, text = 'Hit enter to start the game \\n' 'and after typing every term.\\n'' Game is case sensitive' , font=('Helvetica', 25),bg ='black', fg = 'pink',bd = 10)\n",
    "gameinstruction.place(x = 580, y = 600)"
   ]
  },
  {
   "cell_type": "markdown",
   "id": "9a24122b",
   "metadata": {},
   "source": [
    "# Enter term"
   ]
  },
  {
   "cell_type": "code",
   "execution_count": 13,
   "id": "f2cf5a77",
   "metadata": {},
   "outputs": [],
   "source": [
    "termentry = Entry(Mainwindow, font = ('Helvetica', 30), bd = 10, justify = 'center')\n",
    "termentry.place(x = 550, y = 450)\n",
    "termentry.focus_set()"
   ]
  },
  {
   "cell_type": "markdown",
   "id": "9da177c4",
   "metadata": {},
   "source": [
    "# Last step"
   ]
  },
  {
   "cell_type": "code",
   "execution_count": 14,
   "id": "fddf8a71",
   "metadata": {},
   "outputs": [
    {
     "name": "stdout",
     "output_type": "stream",
     "text": [
      "\n",
      "differtiallu\n",
      "watmeter\n",
      "slit\n",
      "avergae\n",
      "varaiatom\n",
      "5\n",
      "\n",
      "piexo\n",
      "tuple\n",
      "1\n"
     ]
    }
   ],
   "source": [
    "Mainwindow.bind('<Return>', game)\n",
    "mainloop()"
   ]
  }
 ],
 "metadata": {
  "kernelspec": {
   "display_name": "typing_accuracy",
   "language": "python",
   "name": "typing_accuracy"
  },
  "language_info": {
   "codemirror_mode": {
    "name": "ipython",
    "version": 3
   },
   "file_extension": ".py",
   "mimetype": "text/x-python",
   "name": "python",
   "nbconvert_exporter": "python",
   "pygments_lexer": "ipython3",
   "version": "3.9.7"
  }
 },
 "nbformat": 4,
 "nbformat_minor": 5
}
